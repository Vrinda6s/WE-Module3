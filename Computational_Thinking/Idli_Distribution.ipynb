{
  "nbformat": 4,
  "nbformat_minor": 0,
  "metadata": {
    "colab": {
      "provenance": []
    },
    "kernelspec": {
      "name": "python3",
      "display_name": "Python 3"
    },
    "language_info": {
      "name": "python"
    }
  },
  "cells": [
    {
      "cell_type": "code",
      "execution_count": 1,
      "metadata": {
        "id": "sVfMVcgY8sxK"
      },
      "outputs": [],
      "source": [
        "def distribute_idlis_recursive(idli_string, extra_idlis):\n",
        "    if len(idli_string) <= 1:\n",
        "        return extra_idlis  # Base case: no more persons or only one person left\n",
        "\n",
        "    if idli_string[:2] == 'ee':\n",
        "        return distribute_idlis_recursive(idli_string[1:], extra_idlis)  # Move one step ahead for 'ee' combination\n",
        "    elif idli_string[:2] == 'oo':\n",
        "        return distribute_idlis_recursive(idli_string[2:], extra_idlis + 2)  # Move two steps ahead and distribute two extra idlis for 'oo' combination\n",
        "    elif idli_string[:2] == 'oe':\n",
        "        return distribute_idlis_recursive('o' + idli_string[2:], extra_idlis + 2)  # Move two steps ahead, distribute two extra idlis for 'oe' combination, and update the second person to odd\n",
        "    elif idli_string[:2] == 'eo':\n",
        "        return distribute_idlis_recursive(idli_string[1:], extra_idlis)  # Move one step ahead without distributing extra idlis for 'eo' combination\n"
      ]
    },
    {
      "cell_type": "code",
      "source": [
        "def distribute_idlis(idlis):\n",
        "    idli_string = ''.join(['o' if idli % 2 != 0 else 'e' for idli in idlis])\n",
        "\n",
        "    if idli_string.count('o') % 2 != 0:\n",
        "        return -1  # If odd count of 'o', even distribution is not possible\n",
        "\n",
        "    return distribute_idlis_recursive(idli_string, 0)"
      ],
      "metadata": {
        "id": "Pb3dUIi286M_"
      },
      "execution_count": 2,
      "outputs": []
    },
    {
      "cell_type": "code",
      "source": [
        "idlis = [1, 2, 3, 4, 5]\n",
        "result = distribute_idlis(idlis)\n",
        "print(result)  # Output: -1"
      ],
      "metadata": {
        "colab": {
          "base_uri": "https://localhost:8080/"
        },
        "id": "bM-yIKB9823t",
        "outputId": "f9002386-b66a-4c6a-9e21-531cf4aacba3"
      },
      "execution_count": 3,
      "outputs": [
        {
          "output_type": "stream",
          "name": "stdout",
          "text": [
            "-1\n"
          ]
        }
      ]
    }
  ]
}