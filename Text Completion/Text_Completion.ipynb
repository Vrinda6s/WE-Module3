{
  "nbformat": 4,
  "nbformat_minor": 0,
  "metadata": {
    "colab": {
      "provenance": []
    },
    "kernelspec": {
      "name": "python3",
      "display_name": "Python 3"
    },
    "language_info": {
      "name": "python"
    }
  },
  "cells": [
    {
      "cell_type": "code",
      "execution_count": 5,
      "metadata": {
        "id": "ENKWg68m4mCn"
      },
      "outputs": [],
      "source": [
        "def build_markov_chain(text):\n",
        "    words = text.split()\n",
        "    markov_chain = {}\n",
        "    for i in range(len(words) - 1):\n",
        "        current_word = words[i]\n",
        "        next_word = words[i + 1]\n",
        "        if current_word in markov_chain:\n",
        "            markov_chain[current_word].append(next_word)\n",
        "        else:\n",
        "            markov_chain[current_word] = [next_word]\n",
        "    return markov_chain\n",
        "\n",
        "def generate_output_recursive(markov_chain, start_word, output_length, output=None):\n",
        "    if output is None:\n",
        "        output = [start_word]\n",
        "\n",
        "    if output_length <= 1 or start_word not in markov_chain:\n",
        "        return ' '.join(output)\n",
        "\n",
        "    next_word = markov_chain[start_word][0]  # Choose the first word from the transition list\n",
        "    output.append(next_word)\n",
        "\n",
        "    return generate_output_recursive(markov_chain, next_word, output_length - 1, output)"
      ]
    },
    {
      "cell_type": "code",
      "source": [
        "\n",
        "def main(start_word, output_length):\n",
        "    # Hardcoded text corpus\n",
        "    text_corpus = \"\"\"\n",
        "    The quick brown fox jumps over the lazy dog.\n",
        "    Python is a high-level programming language.\n",
        "    Machine learning is a subset of artificial intelligence.\n",
        "    Markov chains are stochastic models used in various fields.\n",
        "    OpenAI's GPT-3 is an advanced language model.\n",
        "    Natural language processing (NLP) involves analyzing and generating human language.\n",
        "    \"\"\"\n",
        "\n",
        "    markov_chain = build_markov_chain(text_corpus)\n",
        "    output_text = generate_output_recursive(markov_chain, start_word, output_length)\n",
        "    return output_text"
      ],
      "metadata": {
        "id": "zqV5mWrvB6Gj"
      },
      "execution_count": 6,
      "outputs": []
    },
    {
      "cell_type": "code",
      "source": [
        "\n",
        "# Example usage\n",
        "start_word = 'The'  # Starting word for the output text\n",
        "output_length = 50  # Length of the generated output text (in words)\n",
        "\n",
        "output_text = main(start_word, output_length)\n",
        "print(output_text)\n"
      ],
      "metadata": {
        "colab": {
          "base_uri": "https://localhost:8080/"
        },
        "id": "Puf3el61B4V8",
        "outputId": "5d61cec6-593a-4d6d-cf2f-a33d0a9afedd"
      },
      "execution_count": 7,
      "outputs": [
        {
          "output_type": "stream",
          "name": "stdout",
          "text": [
            "The quick brown fox jumps over the lazy dog. Python is a high-level programming language. Machine learning is a high-level programming language. Machine learning is a high-level programming language. Machine learning is a high-level programming language. Machine learning is a high-level programming language. Machine learning is a high-level programming language.\n"
          ]
        }
      ]
    }
  ]
}